{
 "cells": [
  {
   "cell_type": "code",
   "execution_count": 2,
   "id": "d068ca7a-1957-446a-9ae3-b211be9fc700",
   "metadata": {},
   "outputs": [],
   "source": [
    "import pandas as pd\n",
    "import numpy as py\n",
    "import matplotlib.pyplot as plt\n",
    "%matplotlib inline\n",
    "import seaborn as sns\n",
    "pd.set_option(\"display.max_columns\",50) # max columns for DataFrame\n"
   ]
  },
  {
   "cell_type": "code",
   "execution_count": 3,
   "id": "0e5602b7-fb55-4eda-9981-947d7974f5b1",
   "metadata": {},
   "outputs": [
    {
     "name": "stdout",
     "output_type": "stream",
     "text": [
      "Requirement already satisfied: matplotlib in /opt/anaconda3/lib/python3.11/site-packages (3.8.0)\n",
      "Requirement already satisfied: contourpy>=1.0.1 in /opt/anaconda3/lib/python3.11/site-packages (from matplotlib) (1.2.0)\n",
      "Requirement already satisfied: cycler>=0.10 in /opt/anaconda3/lib/python3.11/site-packages (from matplotlib) (0.11.0)\n",
      "Requirement already satisfied: fonttools>=4.22.0 in /opt/anaconda3/lib/python3.11/site-packages (from matplotlib) (4.25.0)\n",
      "Requirement already satisfied: kiwisolver>=1.0.1 in /opt/anaconda3/lib/python3.11/site-packages (from matplotlib) (1.4.4)\n",
      "Requirement already satisfied: numpy<2,>=1.21 in /opt/anaconda3/lib/python3.11/site-packages (from matplotlib) (1.26.4)\n",
      "Requirement already satisfied: packaging>=20.0 in /opt/anaconda3/lib/python3.11/site-packages (from matplotlib) (23.1)\n",
      "Requirement already satisfied: pillow>=6.2.0 in /opt/anaconda3/lib/python3.11/site-packages (from matplotlib) (10.2.0)\n",
      "Requirement already satisfied: pyparsing>=2.3.1 in /opt/anaconda3/lib/python3.11/site-packages (from matplotlib) (3.0.9)\n",
      "Requirement already satisfied: python-dateutil>=2.7 in /opt/anaconda3/lib/python3.11/site-packages (from matplotlib) (2.8.2)\n",
      "Requirement already satisfied: six>=1.5 in /opt/anaconda3/lib/python3.11/site-packages (from python-dateutil>=2.7->matplotlib) (1.16.0)\n",
      "Note: you may need to restart the kernel to use updated packages.\n"
     ]
    }
   ],
   "source": [
    "pip install matplotlib"
   ]
  },
  {
   "cell_type": "code",
   "execution_count": 4,
   "id": "c6e4ed55-7860-4674-9b06-e04925f31f95",
   "metadata": {},
   "outputs": [],
   "source": [
    "df= pd.DataFrame(pd.read_csv('electric_vehicle.csv'))"
   ]
  },
  {
   "cell_type": "code",
   "execution_count": 5,
   "id": "0ec897f7-1771-4dd9-91a9-166b4c08593c",
   "metadata": {},
   "outputs": [
    {
     "data": {
      "text/html": [
       "<div>\n",
       "<style scoped>\n",
       "    .dataframe tbody tr th:only-of-type {\n",
       "        vertical-align: middle;\n",
       "    }\n",
       "\n",
       "    .dataframe tbody tr th {\n",
       "        vertical-align: top;\n",
       "    }\n",
       "\n",
       "    .dataframe thead th {\n",
       "        text-align: right;\n",
       "    }\n",
       "</style>\n",
       "<table border=\"1\" class=\"dataframe\">\n",
       "  <thead>\n",
       "    <tr style=\"text-align: right;\">\n",
       "      <th></th>\n",
       "      <th>Date</th>\n",
       "      <th>County</th>\n",
       "      <th>State</th>\n",
       "      <th>Vehicle Primary Use</th>\n",
       "      <th>Battery Electric Vehicles (BEVs)</th>\n",
       "      <th>Plug-In Hybrid Electric Vehicles (PHEVs)</th>\n",
       "      <th>Electric Vehicle (EV) Total</th>\n",
       "      <th>Non-Electric Vehicle Total</th>\n",
       "      <th>Total Vehicles</th>\n",
       "      <th>Percent Electric Vehicles</th>\n",
       "    </tr>\n",
       "  </thead>\n",
       "  <tbody>\n",
       "    <tr>\n",
       "      <th>0</th>\n",
       "      <td>September 30 2022</td>\n",
       "      <td>Riverside</td>\n",
       "      <td>CA</td>\n",
       "      <td>Passenger</td>\n",
       "      <td>7</td>\n",
       "      <td>0</td>\n",
       "      <td>7</td>\n",
       "      <td>460</td>\n",
       "      <td>467</td>\n",
       "      <td>1.50</td>\n",
       "    </tr>\n",
       "    <tr>\n",
       "      <th>1</th>\n",
       "      <td>December 31 2022</td>\n",
       "      <td>Prince William</td>\n",
       "      <td>VA</td>\n",
       "      <td>Passenger</td>\n",
       "      <td>1</td>\n",
       "      <td>2</td>\n",
       "      <td>3</td>\n",
       "      <td>188</td>\n",
       "      <td>191</td>\n",
       "      <td>1.57</td>\n",
       "    </tr>\n",
       "    <tr>\n",
       "      <th>2</th>\n",
       "      <td>January 31 2020</td>\n",
       "      <td>Dakota</td>\n",
       "      <td>MN</td>\n",
       "      <td>Passenger</td>\n",
       "      <td>0</td>\n",
       "      <td>1</td>\n",
       "      <td>1</td>\n",
       "      <td>32</td>\n",
       "      <td>33</td>\n",
       "      <td>3.03</td>\n",
       "    </tr>\n",
       "    <tr>\n",
       "      <th>3</th>\n",
       "      <td>June 30 2022</td>\n",
       "      <td>Ferry</td>\n",
       "      <td>WA</td>\n",
       "      <td>Truck</td>\n",
       "      <td>0</td>\n",
       "      <td>0</td>\n",
       "      <td>0</td>\n",
       "      <td>3,575</td>\n",
       "      <td>3,575</td>\n",
       "      <td>0.00</td>\n",
       "    </tr>\n",
       "    <tr>\n",
       "      <th>4</th>\n",
       "      <td>July 31 2021</td>\n",
       "      <td>Douglas</td>\n",
       "      <td>CO</td>\n",
       "      <td>Passenger</td>\n",
       "      <td>0</td>\n",
       "      <td>1</td>\n",
       "      <td>1</td>\n",
       "      <td>83</td>\n",
       "      <td>84</td>\n",
       "      <td>1.19</td>\n",
       "    </tr>\n",
       "    <tr>\n",
       "      <th>5</th>\n",
       "      <td>May 31 2018</td>\n",
       "      <td>Maui</td>\n",
       "      <td>HI</td>\n",
       "      <td>Passenger</td>\n",
       "      <td>1</td>\n",
       "      <td>0</td>\n",
       "      <td>1</td>\n",
       "      <td>59</td>\n",
       "      <td>60</td>\n",
       "      <td>1.67</td>\n",
       "    </tr>\n",
       "    <tr>\n",
       "      <th>6</th>\n",
       "      <td>November 30 2017</td>\n",
       "      <td>Northampton</td>\n",
       "      <td>PA</td>\n",
       "      <td>Passenger</td>\n",
       "      <td>0</td>\n",
       "      <td>1</td>\n",
       "      <td>1</td>\n",
       "      <td>66</td>\n",
       "      <td>67</td>\n",
       "      <td>1.49</td>\n",
       "    </tr>\n",
       "    <tr>\n",
       "      <th>7</th>\n",
       "      <td>March 31 2018</td>\n",
       "      <td>Nassau</td>\n",
       "      <td>NY</td>\n",
       "      <td>Passenger</td>\n",
       "      <td>1</td>\n",
       "      <td>0</td>\n",
       "      <td>1</td>\n",
       "      <td>37</td>\n",
       "      <td>38</td>\n",
       "      <td>2.63</td>\n",
       "    </tr>\n",
       "    <tr>\n",
       "      <th>8</th>\n",
       "      <td>March 31 2020</td>\n",
       "      <td>DeKalb</td>\n",
       "      <td>IN</td>\n",
       "      <td>Passenger</td>\n",
       "      <td>1</td>\n",
       "      <td>0</td>\n",
       "      <td>1</td>\n",
       "      <td>1</td>\n",
       "      <td>2</td>\n",
       "      <td>50.00</td>\n",
       "    </tr>\n",
       "    <tr>\n",
       "      <th>9</th>\n",
       "      <td>January 31 2019</td>\n",
       "      <td>Columbia</td>\n",
       "      <td>WA</td>\n",
       "      <td>Truck</td>\n",
       "      <td>0</td>\n",
       "      <td>0</td>\n",
       "      <td>0</td>\n",
       "      <td>1,529</td>\n",
       "      <td>1,529</td>\n",
       "      <td>0.00</td>\n",
       "    </tr>\n",
       "  </tbody>\n",
       "</table>\n",
       "</div>"
      ],
      "text/plain": [
       "                Date          County State Vehicle Primary Use  \\\n",
       "0  September 30 2022       Riverside    CA           Passenger   \n",
       "1   December 31 2022  Prince William    VA           Passenger   \n",
       "2    January 31 2020          Dakota    MN           Passenger   \n",
       "3       June 30 2022           Ferry    WA               Truck   \n",
       "4       July 31 2021         Douglas    CO           Passenger   \n",
       "5        May 31 2018            Maui    HI           Passenger   \n",
       "6   November 30 2017     Northampton    PA           Passenger   \n",
       "7      March 31 2018          Nassau    NY           Passenger   \n",
       "8      March 31 2020          DeKalb    IN           Passenger   \n",
       "9    January 31 2019        Columbia    WA               Truck   \n",
       "\n",
       "  Battery Electric Vehicles (BEVs) Plug-In Hybrid Electric Vehicles (PHEVs)  \\\n",
       "0                                7                                        0   \n",
       "1                                1                                        2   \n",
       "2                                0                                        1   \n",
       "3                                0                                        0   \n",
       "4                                0                                        1   \n",
       "5                                1                                        0   \n",
       "6                                0                                        1   \n",
       "7                                1                                        0   \n",
       "8                                1                                        0   \n",
       "9                                0                                        0   \n",
       "\n",
       "  Electric Vehicle (EV) Total Non-Electric Vehicle Total Total Vehicles  \\\n",
       "0                           7                        460            467   \n",
       "1                           3                        188            191   \n",
       "2                           1                         32             33   \n",
       "3                           0                      3,575          3,575   \n",
       "4                           1                         83             84   \n",
       "5                           1                         59             60   \n",
       "6                           1                         66             67   \n",
       "7                           1                         37             38   \n",
       "8                           1                          1              2   \n",
       "9                           0                      1,529          1,529   \n",
       "\n",
       "   Percent Electric Vehicles  \n",
       "0                       1.50  \n",
       "1                       1.57  \n",
       "2                       3.03  \n",
       "3                       0.00  \n",
       "4                       1.19  \n",
       "5                       1.67  \n",
       "6                       1.49  \n",
       "7                       2.63  \n",
       "8                      50.00  \n",
       "9                       0.00  "
      ]
     },
     "execution_count": 5,
     "metadata": {},
     "output_type": "execute_result"
    }
   ],
   "source": [
    "df.head(10)"
   ]
  },
  {
   "cell_type": "code",
   "execution_count": 7,
   "id": "4ad62179-6b73-4743-a2d9-b3299f8bd3b1",
   "metadata": {},
   "outputs": [
    {
     "data": {
      "text/plain": [
       "(20819, 10)"
      ]
     },
     "execution_count": 7,
     "metadata": {},
     "output_type": "execute_result"
    }
   ],
   "source": [
    "df.shape # total of 20819 rows, 10 columns"
   ]
  },
  {
   "cell_type": "code",
   "execution_count": 8,
   "id": "d67dd283-8610-4751-a0d2-b12fa12d1761",
   "metadata": {},
   "outputs": [
    {
     "name": "stdout",
     "output_type": "stream",
     "text": [
      "<class 'pandas.core.frame.DataFrame'>\n",
      "RangeIndex: 20819 entries, 0 to 20818\n",
      "Data columns (total 10 columns):\n",
      " #   Column                                    Non-Null Count  Dtype  \n",
      "---  ------                                    --------------  -----  \n",
      " 0   Date                                      20819 non-null  object \n",
      " 1   County                                    20733 non-null  object \n",
      " 2   State                                     20733 non-null  object \n",
      " 3   Vehicle Primary Use                       20819 non-null  object \n",
      " 4   Battery Electric Vehicles (BEVs)          20819 non-null  object \n",
      " 5   Plug-In Hybrid Electric Vehicles (PHEVs)  20819 non-null  object \n",
      " 6   Electric Vehicle (EV) Total               20819 non-null  object \n",
      " 7   Non-Electric Vehicle Total                20819 non-null  object \n",
      " 8   Total Vehicles                            20819 non-null  object \n",
      " 9   Percent Electric Vehicles                 20819 non-null  float64\n",
      "dtypes: float64(1), object(9)\n",
      "memory usage: 1.6+ MB\n"
     ]
    }
   ],
   "source": [
    "df.info()\n"
   ]
  },
  {
   "cell_type": "code",
   "execution_count": 12,
   "id": "c2c3c6b0-4671-49b6-806d-d8eebe3a4078",
   "metadata": {},
   "outputs": [],
   "source": [
    "df['Date'] = pd.to_datetime(df['Date']) # change format of date\n",
    "                            "
   ]
  },
  {
   "cell_type": "code",
   "execution_count": 13,
   "id": "c94abad7-fd74-473b-9363-b74b0889f1e6",
   "metadata": {},
   "outputs": [
    {
     "data": {
      "text/html": [
       "<div>\n",
       "<style scoped>\n",
       "    .dataframe tbody tr th:only-of-type {\n",
       "        vertical-align: middle;\n",
       "    }\n",
       "\n",
       "    .dataframe tbody tr th {\n",
       "        vertical-align: top;\n",
       "    }\n",
       "\n",
       "    .dataframe thead th {\n",
       "        text-align: right;\n",
       "    }\n",
       "</style>\n",
       "<table border=\"1\" class=\"dataframe\">\n",
       "  <thead>\n",
       "    <tr style=\"text-align: right;\">\n",
       "      <th></th>\n",
       "      <th>Date</th>\n",
       "      <th>County</th>\n",
       "      <th>State</th>\n",
       "      <th>Vehicle Primary Use</th>\n",
       "      <th>Battery Electric Vehicles (BEVs)</th>\n",
       "      <th>Plug-In Hybrid Electric Vehicles (PHEVs)</th>\n",
       "      <th>Electric Vehicle (EV) Total</th>\n",
       "      <th>Non-Electric Vehicle Total</th>\n",
       "      <th>Total Vehicles</th>\n",
       "      <th>Percent Electric Vehicles</th>\n",
       "    </tr>\n",
       "  </thead>\n",
       "  <tbody>\n",
       "    <tr>\n",
       "      <th>0</th>\n",
       "      <td>2022-09-30</td>\n",
       "      <td>Riverside</td>\n",
       "      <td>CA</td>\n",
       "      <td>Passenger</td>\n",
       "      <td>7</td>\n",
       "      <td>0</td>\n",
       "      <td>7</td>\n",
       "      <td>460</td>\n",
       "      <td>467</td>\n",
       "      <td>1.50</td>\n",
       "    </tr>\n",
       "    <tr>\n",
       "      <th>1</th>\n",
       "      <td>2022-12-31</td>\n",
       "      <td>Prince William</td>\n",
       "      <td>VA</td>\n",
       "      <td>Passenger</td>\n",
       "      <td>1</td>\n",
       "      <td>2</td>\n",
       "      <td>3</td>\n",
       "      <td>188</td>\n",
       "      <td>191</td>\n",
       "      <td>1.57</td>\n",
       "    </tr>\n",
       "    <tr>\n",
       "      <th>2</th>\n",
       "      <td>2020-01-31</td>\n",
       "      <td>Dakota</td>\n",
       "      <td>MN</td>\n",
       "      <td>Passenger</td>\n",
       "      <td>0</td>\n",
       "      <td>1</td>\n",
       "      <td>1</td>\n",
       "      <td>32</td>\n",
       "      <td>33</td>\n",
       "      <td>3.03</td>\n",
       "    </tr>\n",
       "    <tr>\n",
       "      <th>3</th>\n",
       "      <td>2022-06-30</td>\n",
       "      <td>Ferry</td>\n",
       "      <td>WA</td>\n",
       "      <td>Truck</td>\n",
       "      <td>0</td>\n",
       "      <td>0</td>\n",
       "      <td>0</td>\n",
       "      <td>3,575</td>\n",
       "      <td>3,575</td>\n",
       "      <td>0.00</td>\n",
       "    </tr>\n",
       "    <tr>\n",
       "      <th>4</th>\n",
       "      <td>2021-07-31</td>\n",
       "      <td>Douglas</td>\n",
       "      <td>CO</td>\n",
       "      <td>Passenger</td>\n",
       "      <td>0</td>\n",
       "      <td>1</td>\n",
       "      <td>1</td>\n",
       "      <td>83</td>\n",
       "      <td>84</td>\n",
       "      <td>1.19</td>\n",
       "    </tr>\n",
       "  </tbody>\n",
       "</table>\n",
       "</div>"
      ],
      "text/plain": [
       "        Date          County State Vehicle Primary Use  \\\n",
       "0 2022-09-30       Riverside    CA           Passenger   \n",
       "1 2022-12-31  Prince William    VA           Passenger   \n",
       "2 2020-01-31          Dakota    MN           Passenger   \n",
       "3 2022-06-30           Ferry    WA               Truck   \n",
       "4 2021-07-31         Douglas    CO           Passenger   \n",
       "\n",
       "  Battery Electric Vehicles (BEVs) Plug-In Hybrid Electric Vehicles (PHEVs)  \\\n",
       "0                                7                                        0   \n",
       "1                                1                                        2   \n",
       "2                                0                                        1   \n",
       "3                                0                                        0   \n",
       "4                                0                                        1   \n",
       "\n",
       "  Electric Vehicle (EV) Total Non-Electric Vehicle Total Total Vehicles  \\\n",
       "0                           7                        460            467   \n",
       "1                           3                        188            191   \n",
       "2                           1                         32             33   \n",
       "3                           0                      3,575          3,575   \n",
       "4                           1                         83             84   \n",
       "\n",
       "   Percent Electric Vehicles  \n",
       "0                       1.50  \n",
       "1                       1.57  \n",
       "2                       3.03  \n",
       "3                       0.00  \n",
       "4                       1.19  "
      ]
     },
     "execution_count": 13,
     "metadata": {},
     "output_type": "execute_result"
    }
   ],
   "source": [
    "df.head()\n"
   ]
  },
  {
   "cell_type": "code",
   "execution_count": 16,
   "id": "60080927-5ef9-40ac-82fd-a7af34fd0505",
   "metadata": {},
   "outputs": [],
   "source": [
    "df.loc[df['County'].isna()] # check if null value\n",
    "df.dropna(subset = ['County'], inplace=True)\n"
   ]
  },
  {
   "cell_type": "code",
   "execution_count": 17,
   "id": "4863c937-09d9-42d0-84d2-a75c1a7f464c",
   "metadata": {},
   "outputs": [
    {
     "data": {
      "text/plain": [
       "(20733, 10)"
      ]
     },
     "execution_count": 17,
     "metadata": {},
     "output_type": "execute_result"
    }
   ],
   "source": [
    "df.shape\n"
   ]
  },
  {
   "cell_type": "code",
   "execution_count": 18,
   "id": "97ba05c8-0d6b-45c9-aae6-9f0fcb23b9bc",
   "metadata": {},
   "outputs": [
    {
     "name": "stdout",
     "output_type": "stream",
     "text": [
      "<class 'pandas.core.frame.DataFrame'>\n",
      "Index: 20733 entries, 0 to 20818\n",
      "Data columns (total 10 columns):\n",
      " #   Column                                    Non-Null Count  Dtype         \n",
      "---  ------                                    --------------  -----         \n",
      " 0   Date                                      20733 non-null  datetime64[ns]\n",
      " 1   County                                    20733 non-null  object        \n",
      " 2   State                                     20733 non-null  object        \n",
      " 3   Vehicle Primary Use                       20733 non-null  object        \n",
      " 4   Battery Electric Vehicles (BEVs)          20733 non-null  object        \n",
      " 5   Plug-In Hybrid Electric Vehicles (PHEVs)  20733 non-null  object        \n",
      " 6   Electric Vehicle (EV) Total               20733 non-null  object        \n",
      " 7   Non-Electric Vehicle Total                20733 non-null  object        \n",
      " 8   Total Vehicles                            20733 non-null  object        \n",
      " 9   Percent Electric Vehicles                 20733 non-null  float64       \n",
      "dtypes: datetime64[ns](1), float64(1), object(8)\n",
      "memory usage: 1.7+ MB\n"
     ]
    }
   ],
   "source": [
    "df.info()"
   ]
  },
  {
   "cell_type": "code",
   "execution_count": 19,
   "id": "015a206f-6c47-4a67-8ece-c9723f246f5c",
   "metadata": {},
   "outputs": [],
   "source": [
    "df['Electric Vehicle (EV) Total'] = df['Electric Vehicle (EV) Total'].str.replace(',','')\n",
    "df['Electric Vehicle (EV) Total'] = df['Electric Vehicle (EV) Total'].astype('float')"
   ]
  },
  {
   "cell_type": "code",
   "execution_count": 20,
   "id": "844f19c9-8a6d-4fe2-8e6a-8c4ec46d5dfb",
   "metadata": {},
   "outputs": [],
   "source": [
    "df['Battery Electric Vehicles (BEVs)'] = df['Battery Electric Vehicles (BEVs)'].str.replace(',', '')\n",
    "df['Battery Electric Vehicles (BEVs)'] = df['Battery Electric Vehicles (BEVs)'].astype('float')"
   ]
  },
  {
   "cell_type": "code",
   "execution_count": 24,
   "id": "be4d4597-7b33-4ffe-a369-140855c183e5",
   "metadata": {},
   "outputs": [],
   "source": [
    "df['Plug-In Hybrid Electric Vehicles (PHEVs)'] = df['Plug-In Hybrid Electric Vehicles (PHEVs)'].astype(str)\n",
    "df['Plug-In Hybrid Electric Vehicles (PHEVs)'] = df['Plug-In Hybrid Electric Vehicles (PHEVs)'].str.replace(',','')\n",
    "df['Plug-In Hybrid Electric Vehicles (PHEVs)'] = df['Plug-In Hybrid Electric Vehicles (PHEVs)'].astype('float')"
   ]
  },
  {
   "cell_type": "code",
   "execution_count": 25,
   "id": "b8447137-0816-4249-8bfb-a3df9e21fee5",
   "metadata": {},
   "outputs": [],
   "source": [
    "df['Non-Electric Vehicle Total'] = df['Non-Electric Vehicle Total'].str.replace(',','')\n",
    "df['Non-Electric Vehicle Total'] = df['Non-Electric Vehicle Total'].astype('float')"
   ]
  },
  {
   "cell_type": "code",
   "execution_count": 26,
   "id": "f247885a-c35d-40d4-9973-549dc83bb7c9",
   "metadata": {},
   "outputs": [],
   "source": [
    "df['Total Vehicles'] = df['Total Vehicles'].str.replace(',', '')\n",
    "df['Total Vehicles'] = df['Total Vehicles'].astype('float')"
   ]
  },
  {
   "cell_type": "code",
   "execution_count": 27,
   "id": "cd1bc0df-878b-443b-a786-cb1856e0bf4e",
   "metadata": {},
   "outputs": [
    {
     "name": "stdout",
     "output_type": "stream",
     "text": [
      "<class 'pandas.core.frame.DataFrame'>\n",
      "Index: 20733 entries, 0 to 20818\n",
      "Data columns (total 10 columns):\n",
      " #   Column                                    Non-Null Count  Dtype         \n",
      "---  ------                                    --------------  -----         \n",
      " 0   Date                                      20733 non-null  datetime64[ns]\n",
      " 1   County                                    20733 non-null  object        \n",
      " 2   State                                     20733 non-null  object        \n",
      " 3   Vehicle Primary Use                       20733 non-null  object        \n",
      " 4   Battery Electric Vehicles (BEVs)          20733 non-null  float64       \n",
      " 5   Plug-In Hybrid Electric Vehicles (PHEVs)  20733 non-null  float64       \n",
      " 6   Electric Vehicle (EV) Total               20733 non-null  float64       \n",
      " 7   Non-Electric Vehicle Total                20733 non-null  float64       \n",
      " 8   Total Vehicles                            20733 non-null  float64       \n",
      " 9   Percent Electric Vehicles                 20733 non-null  float64       \n",
      "dtypes: datetime64[ns](1), float64(6), object(3)\n",
      "memory usage: 1.7+ MB\n"
     ]
    }
   ],
   "source": [
    "df.info()"
   ]
  },
  {
   "cell_type": "code",
   "execution_count": 28,
   "id": "0a953bb6-4f90-4d00-aa64-9fb79dad9541",
   "metadata": {},
   "outputs": [],
   "source": [
    "top_ten = df.groupby('State', as_index = False)[['Electric Vehicle (EV) Total','Total Vehicles']].sum()"
   ]
  },
  {
   "cell_type": "code",
   "execution_count": 29,
   "id": "bca4cd9e-c774-45b6-ab83-edf60810298a",
   "metadata": {},
   "outputs": [
    {
     "data": {
      "text/html": [
       "<div>\n",
       "<style scoped>\n",
       "    .dataframe tbody tr th:only-of-type {\n",
       "        vertical-align: middle;\n",
       "    }\n",
       "\n",
       "    .dataframe tbody tr th {\n",
       "        vertical-align: top;\n",
       "    }\n",
       "\n",
       "    .dataframe thead th {\n",
       "        text-align: right;\n",
       "    }\n",
       "</style>\n",
       "<table border=\"1\" class=\"dataframe\">\n",
       "  <thead>\n",
       "    <tr style=\"text-align: right;\">\n",
       "      <th></th>\n",
       "      <th>State</th>\n",
       "      <th>Electric Vehicle (EV) Total</th>\n",
       "      <th>Total Vehicles</th>\n",
       "    </tr>\n",
       "  </thead>\n",
       "  <tbody>\n",
       "    <tr>\n",
       "      <th>0</th>\n",
       "      <td>AK</td>\n",
       "      <td>183.0</td>\n",
       "      <td>11594.0</td>\n",
       "    </tr>\n",
       "    <tr>\n",
       "      <th>1</th>\n",
       "      <td>AL</td>\n",
       "      <td>169.0</td>\n",
       "      <td>5135.0</td>\n",
       "    </tr>\n",
       "    <tr>\n",
       "      <th>2</th>\n",
       "      <td>AR</td>\n",
       "      <td>69.0</td>\n",
       "      <td>487.0</td>\n",
       "    </tr>\n",
       "    <tr>\n",
       "      <th>3</th>\n",
       "      <td>AZ</td>\n",
       "      <td>1172.0</td>\n",
       "      <td>157198.0</td>\n",
       "    </tr>\n",
       "    <tr>\n",
       "      <th>4</th>\n",
       "      <td>CA</td>\n",
       "      <td>6892.0</td>\n",
       "      <td>626762.0</td>\n",
       "    </tr>\n",
       "  </tbody>\n",
       "</table>\n",
       "</div>"
      ],
      "text/plain": [
       "  State  Electric Vehicle (EV) Total  Total Vehicles\n",
       "0    AK                        183.0         11594.0\n",
       "1    AL                        169.0          5135.0\n",
       "2    AR                         69.0           487.0\n",
       "3    AZ                       1172.0        157198.0\n",
       "4    CA                       6892.0        626762.0"
      ]
     },
     "execution_count": 29,
     "metadata": {},
     "output_type": "execute_result"
    }
   ],
   "source": [
    "top_ten.head()"
   ]
  },
  {
   "cell_type": "code",
   "execution_count": 30,
   "id": "1d157845-145d-4b7c-8259-5672c535eb4e",
   "metadata": {},
   "outputs": [],
   "source": [
    "top_ten['Percent EV'] = (top_ten['Electric Vehicle (EV) Total']/top_ten['Total Vehicles'])*100"
   ]
  },
  {
   "cell_type": "code",
   "execution_count": 31,
   "id": "6779d614-b49d-4fff-bafe-95170bf498cb",
   "metadata": {},
   "outputs": [],
   "source": [
    "top_ten = top_ten.sort_values('Percent EV',ascending = False)"
   ]
  },
  {
   "cell_type": "code",
   "execution_count": 33,
   "id": "6207123f-a304-406a-b42f-48261e29d682",
   "metadata": {},
   "outputs": [
    {
     "data": {
      "image/png": "[encoded data removed]",
      "text/plain": [
       "<Figure size 640x480 with 1 Axes>"
      ]
     },
     "metadata": {},
     "output_type": "display_data"
    }
   ],
   "source": [
    "sns.barplot(x='State', y = 'Percent EV', data = top_ten.head(10))\n",
    "plt.show()"
   ]
  },
  {
   "cell_type": "markdown",
   "id": "387def82-a21b-4804-a03b-4a462be6ca6a",
   "metadata": {},
   "source": [
    "**The above graph depicts top 10 States in terms of Percentage of EV sales and PR is on top**"
   ]
  },
  {
   "cell_type": "code",
   "execution_count": 41,
   "id": "eb667d53-d89a-423b-a430-6f585afd4677",
   "metadata": {},
   "outputs": [
    {
     "data": {
      "text/html": [
       "<div>\n",
       "<style scoped>\n",
       "    .dataframe tbody tr th:only-of-type {\n",
       "        vertical-align: middle;\n",
       "    }\n",
       "\n",
       "    .dataframe tbody tr th {\n",
       "        vertical-align: top;\n",
       "    }\n",
       "\n",
       "    .dataframe thead th {\n",
       "        text-align: right;\n",
       "    }\n",
       "</style>\n",
       "<table border=\"1\" class=\"dataframe\">\n",
       "  <thead>\n",
       "    <tr style=\"text-align: right;\">\n",
       "      <th></th>\n",
       "      <th>State</th>\n",
       "      <th>Electric Vehicle (EV) Total</th>\n",
       "      <th>Total Vehicles</th>\n",
       "      <th>Percent EV</th>\n",
       "    </tr>\n",
       "  </thead>\n",
       "  <tbody>\n",
       "    <tr>\n",
       "      <th>3</th>\n",
       "      <td>AZ</td>\n",
       "      <td>1172.0</td>\n",
       "      <td>157198.0</td>\n",
       "      <td>0.745557</td>\n",
       "    </tr>\n",
       "  </tbody>\n",
       "</table>\n",
       "</div>"
      ],
      "text/plain": [
       "  State  Electric Vehicle (EV) Total  Total Vehicles  Percent EV\n",
       "3    AZ                       1172.0        157198.0    0.745557"
      ]
     },
     "execution_count": 41,
     "metadata": {},
     "output_type": "execute_result"
    }
   ],
   "source": [
    "top_ten.tail(1) # check for lowest EV sale percentage"
   ]
  },
  {
   "cell_type": "code",
   "execution_count": 43,
   "id": "8ef6ec92-d6ad-43d8-a582-575689c382a9",
   "metadata": {},
   "outputs": [],
   "source": [
    "top_ten_sales = df.groupby('State', as_index = False)['Electric Vehicle (EV) Total'].sum().sort_values('Electric Vehicle (EV) Total', ascending= False)"
   ]
  },
  {
   "cell_type": "code",
   "execution_count": 46,
   "id": "135733c2-6189-40df-97df-1e9127976e46",
   "metadata": {},
   "outputs": [
    {
     "data": {
      "text/html": [
       "<div>\n",
       "<style scoped>\n",
       "    .dataframe tbody tr th:only-of-type {\n",
       "        vertical-align: middle;\n",
       "    }\n",
       "\n",
       "    .dataframe tbody tr th {\n",
       "        vertical-align: top;\n",
       "    }\n",
       "\n",
       "    .dataframe thead th {\n",
       "        text-align: right;\n",
       "    }\n",
       "</style>\n",
       "<table border=\"1\" class=\"dataframe\">\n",
       "  <thead>\n",
       "    <tr style=\"text-align: right;\">\n",
       "      <th></th>\n",
       "      <th>State</th>\n",
       "      <th>Electric Vehicle (EV) Total</th>\n",
       "    </tr>\n",
       "  </thead>\n",
       "  <tbody>\n",
       "    <tr>\n",
       "      <th>47</th>\n",
       "      <td>WA</td>\n",
       "      <td>6166610.0</td>\n",
       "    </tr>\n",
       "  </tbody>\n",
       "</table>\n",
       "</div>"
      ],
      "text/plain": [
       "   State  Electric Vehicle (EV) Total\n",
       "47    WA                    6166610.0"
      ]
     },
     "execution_count": 46,
     "metadata": {},
     "output_type": "execute_result"
    }
   ],
   "source": [
    "top_ten_sales.head(1) # state with highest EV sale"
   ]
  },
  {
   "cell_type": "code",
   "execution_count": 47,
   "id": "8034e90f-332f-4a30-a83c-31f36f910b9d",
   "metadata": {},
   "outputs": [
    {
     "data": {
      "text/html": [
       "<div>\n",
       "<style scoped>\n",
       "    .dataframe tbody tr th:only-of-type {\n",
       "        vertical-align: middle;\n",
       "    }\n",
       "\n",
       "    .dataframe tbody tr th {\n",
       "        vertical-align: top;\n",
       "    }\n",
       "\n",
       "    .dataframe thead th {\n",
       "        text-align: right;\n",
       "    }\n",
       "</style>\n",
       "<table border=\"1\" class=\"dataframe\">\n",
       "  <thead>\n",
       "    <tr style=\"text-align: right;\">\n",
       "      <th></th>\n",
       "      <th>State</th>\n",
       "      <th>Electric Vehicle (EV) Total</th>\n",
       "    </tr>\n",
       "  </thead>\n",
       "  <tbody>\n",
       "    <tr>\n",
       "      <th>8</th>\n",
       "      <td>DE</td>\n",
       "      <td>16.0</td>\n",
       "    </tr>\n",
       "  </tbody>\n",
       "</table>\n",
       "</div>"
      ],
      "text/plain": [
       "  State  Electric Vehicle (EV) Total\n",
       "8    DE                         16.0"
      ]
     },
     "execution_count": 47,
     "metadata": {},
     "output_type": "execute_result"
    }
   ],
   "source": [
    "top_ten_sales.tail(1)# state with lowest EV sale"
   ]
  },
  {
   "cell_type": "code",
   "execution_count": 50,
   "id": "7c5a7dd8-71e4-4b0d-bbe6-0e0c00c29196",
   "metadata": {},
   "outputs": [],
   "source": [
    "county_top_ten = df.groupby('County',as_index = False)['Electric Vehicle (EV) Total'].sum().sort_values('Electric Vehicle (EV) Total',ascending=False)"
   ]
  },
  {
   "cell_type": "code",
   "execution_count": 54,
   "id": "d82af502-01ba-479a-a147-5973e5546ead",
   "metadata": {},
   "outputs": [
    {
     "data": {
      "image/png": "[encoded data removed]",
      "text/plain": [
       "<Figure size 640x480 with 1 Axes>"
      ]
     },
     "metadata": {},
     "output_type": "display_data"
    }
   ],
   "source": [
    "sns.barplot(x='County', y= 'Electric Vehicle (EV) Total', data=county_top_ten.head(10))\n",
    "plt.xticks(rotation=90)\n",
    "plt.show()"
   ]
  },
  {
   "cell_type": "markdown",
   "id": "ac88b41c-4ce0-4cc5-ba08-4b00c0d70dfd",
   "metadata": {},
   "source": [
    "**The above graph depicts top 10 County's in terms of Total EV sales and King is on top**\n",
    "\n"
   ]
  },
  {
   "cell_type": "code",
   "execution_count": 56,
   "id": "82ce4c7b-b187-44b8-b8dd-b307b207255a",
   "metadata": {},
   "outputs": [
    {
     "data": {
      "text/html": [
       "<div>\n",
       "<style scoped>\n",
       "    .dataframe tbody tr th:only-of-type {\n",
       "        vertical-align: middle;\n",
       "    }\n",
       "\n",
       "    .dataframe tbody tr th {\n",
       "        vertical-align: top;\n",
       "    }\n",
       "\n",
       "    .dataframe thead th {\n",
       "        text-align: right;\n",
       "    }\n",
       "</style>\n",
       "<table border=\"1\" class=\"dataframe\">\n",
       "  <thead>\n",
       "    <tr style=\"text-align: right;\">\n",
       "      <th></th>\n",
       "      <th>County</th>\n",
       "      <th>Electric Vehicle (EV) Total</th>\n",
       "    </tr>\n",
       "  </thead>\n",
       "  <tbody>\n",
       "    <tr>\n",
       "      <th>29</th>\n",
       "      <td>Brown</td>\n",
       "      <td>1.0</td>\n",
       "    </tr>\n",
       "  </tbody>\n",
       "</table>\n",
       "</div>"
      ],
      "text/plain": [
       "   County  Electric Vehicle (EV) Total\n",
       "29  Brown                          1.0"
      ]
     },
     "execution_count": 56,
     "metadata": {},
     "output_type": "execute_result"
    }
   ],
   "source": [
    "county_top_ten.tail(1) # county with lowest ev total sales"
   ]
  },
  {
   "cell_type": "code",
   "execution_count": 57,
   "id": "33f09b77-3846-4fa9-822e-32607d4ea3e4",
   "metadata": {},
   "outputs": [],
   "source": [
    "#top 10 county's with best EV sales(percentage)\n",
    "county_percentage = df.groupby('County',as_index =False)[['Electric Vehicle (EV) Total','Total Vehicles']].sum()"
   ]
  },
  {
   "cell_type": "code",
   "execution_count": 58,
   "id": "97d80646-f36b-4906-8f6e-7c46714c15c1",
   "metadata": {},
   "outputs": [],
   "source": [
    "county_percentage['Percent EV']=(county_percentage['Electric Vehicle (EV) Total']/county_percentage['Total Vehicles'])*100"
   ]
  },
  {
   "cell_type": "code",
   "execution_count": 59,
   "id": "4aae45a3-29d1-4bd2-9d56-7c8f518638a8",
   "metadata": {},
   "outputs": [],
   "source": [
    "county_percentage = county_percentage.sort_values('Percent EV', ascending = False)"
   ]
  },
  {
   "cell_type": "code",
   "execution_count": 60,
   "id": "95b1c59a-fefb-43b5-8e46-2839effb4829",
   "metadata": {},
   "outputs": [
    {
     "data": {
      "text/html": [
       "<div>\n",
       "<style scoped>\n",
       "    .dataframe tbody tr th:only-of-type {\n",
       "        vertical-align: middle;\n",
       "    }\n",
       "\n",
       "    .dataframe tbody tr th {\n",
       "        vertical-align: top;\n",
       "    }\n",
       "\n",
       "    .dataframe thead th {\n",
       "        text-align: right;\n",
       "    }\n",
       "</style>\n",
       "<table border=\"1\" class=\"dataframe\">\n",
       "  <thead>\n",
       "    <tr style=\"text-align: right;\">\n",
       "      <th></th>\n",
       "      <th>County</th>\n",
       "      <th>Electric Vehicle (EV) Total</th>\n",
       "      <th>Total Vehicles</th>\n",
       "      <th>Percent EV</th>\n",
       "    </tr>\n",
       "  </thead>\n",
       "  <tbody>\n",
       "    <tr>\n",
       "      <th>66</th>\n",
       "      <td>Danville</td>\n",
       "      <td>23.0</td>\n",
       "      <td>23.0</td>\n",
       "      <td>100.000000</td>\n",
       "    </tr>\n",
       "    <tr>\n",
       "      <th>250</th>\n",
       "      <td>Sevier</td>\n",
       "      <td>23.0</td>\n",
       "      <td>23.0</td>\n",
       "      <td>100.000000</td>\n",
       "    </tr>\n",
       "    <tr>\n",
       "      <th>140</th>\n",
       "      <td>Las Animas</td>\n",
       "      <td>32.0</td>\n",
       "      <td>44.0</td>\n",
       "      <td>72.727273</td>\n",
       "    </tr>\n",
       "    <tr>\n",
       "      <th>50</th>\n",
       "      <td>Clinton</td>\n",
       "      <td>23.0</td>\n",
       "      <td>32.0</td>\n",
       "      <td>71.875000</td>\n",
       "    </tr>\n",
       "    <tr>\n",
       "      <th>26</th>\n",
       "      <td>Bradley</td>\n",
       "      <td>11.0</td>\n",
       "      <td>16.0</td>\n",
       "      <td>68.750000</td>\n",
       "    </tr>\n",
       "    <tr>\n",
       "      <th>...</th>\n",
       "      <td>...</td>\n",
       "      <td>...</td>\n",
       "      <td>...</td>\n",
       "      <td>...</td>\n",
       "    </tr>\n",
       "    <tr>\n",
       "      <th>85</th>\n",
       "      <td>Ferry</td>\n",
       "      <td>1085.0</td>\n",
       "      <td>683719.0</td>\n",
       "      <td>0.158691</td>\n",
       "    </tr>\n",
       "    <tr>\n",
       "      <th>145</th>\n",
       "      <td>Lincoln</td>\n",
       "      <td>1631.0</td>\n",
       "      <td>1064254.0</td>\n",
       "      <td>0.153253</td>\n",
       "    </tr>\n",
       "    <tr>\n",
       "      <th>197</th>\n",
       "      <td>Pend Oreille</td>\n",
       "      <td>1734.0</td>\n",
       "      <td>1282713.0</td>\n",
       "      <td>0.135182</td>\n",
       "    </tr>\n",
       "    <tr>\n",
       "      <th>1</th>\n",
       "      <td>Adams</td>\n",
       "      <td>1758.0</td>\n",
       "      <td>1554217.0</td>\n",
       "      <td>0.113112</td>\n",
       "    </tr>\n",
       "    <tr>\n",
       "      <th>93</th>\n",
       "      <td>Garfield</td>\n",
       "      <td>197.0</td>\n",
       "      <td>197570.0</td>\n",
       "      <td>0.099711</td>\n",
       "    </tr>\n",
       "  </tbody>\n",
       "</table>\n",
       "<p>311 rows × 4 columns</p>\n",
       "</div>"
      ],
      "text/plain": [
       "           County  Electric Vehicle (EV) Total  Total Vehicles  Percent EV\n",
       "66       Danville                         23.0            23.0  100.000000\n",
       "250        Sevier                         23.0            23.0  100.000000\n",
       "140    Las Animas                         32.0            44.0   72.727273\n",
       "50        Clinton                         23.0            32.0   71.875000\n",
       "26        Bradley                         11.0            16.0   68.750000\n",
       "..            ...                          ...             ...         ...\n",
       "85          Ferry                       1085.0        683719.0    0.158691\n",
       "145       Lincoln                       1631.0       1064254.0    0.153253\n",
       "197  Pend Oreille                       1734.0       1282713.0    0.135182\n",
       "1           Adams                       1758.0       1554217.0    0.113112\n",
       "93       Garfield                        197.0        197570.0    0.099711\n",
       "\n",
       "[311 rows x 4 columns]"
      ]
     },
     "execution_count": 60,
     "metadata": {},
     "output_type": "execute_result"
    }
   ],
   "source": [
    "county_percentage"
   ]
  },
  {
   "cell_type": "code",
   "execution_count": 64,
   "id": "ccbf1727-d156-448b-95f5-975eb2be8785",
   "metadata": {},
   "outputs": [
    {
     "data": {
      "image/png": "[encoded data removed]",
      "text/plain": [
       "<Figure size 640x480 with 1 Axes>"
      ]
     },
     "metadata": {},
     "output_type": "display_data"
    }
   ],
   "source": [
    "sns.barplot(x= 'County',y='Percent EV', data=county_percentage.head(10))\n",
    "plt.xticks(rotation=90)\n",
    "plt.show()"
   ]
  },
  {
   "cell_type": "markdown",
   "id": "84a0cb03-6eaa-47e6-8f94-2b2ef0cb8c0b",
   "metadata": {},
   "source": [
    "**The above graph depicts top 10 County's in terms of Percent EV sales and Danville and Sevier is on top**\n"
   ]
  },
  {
   "cell_type": "code",
   "execution_count": 66,
   "id": "fcebadce-ff41-4878-b7c8-30a88dd94f18",
   "metadata": {},
   "outputs": [
    {
     "data": {
      "text/html": [
       "<div>\n",
       "<style scoped>\n",
       "    .dataframe tbody tr th:only-of-type {\n",
       "        vertical-align: middle;\n",
       "    }\n",
       "\n",
       "    .dataframe tbody tr th {\n",
       "        vertical-align: top;\n",
       "    }\n",
       "\n",
       "    .dataframe thead th {\n",
       "        text-align: right;\n",
       "    }\n",
       "</style>\n",
       "<table border=\"1\" class=\"dataframe\">\n",
       "  <thead>\n",
       "    <tr style=\"text-align: right;\">\n",
       "      <th></th>\n",
       "      <th>County</th>\n",
       "      <th>Electric Vehicle (EV) Total</th>\n",
       "      <th>Total Vehicles</th>\n",
       "      <th>Percent EV</th>\n",
       "    </tr>\n",
       "  </thead>\n",
       "  <tbody>\n",
       "    <tr>\n",
       "      <th>93</th>\n",
       "      <td>Garfield</td>\n",
       "      <td>197.0</td>\n",
       "      <td>197570.0</td>\n",
       "      <td>0.099711</td>\n",
       "    </tr>\n",
       "  </tbody>\n",
       "</table>\n",
       "</div>"
      ],
      "text/plain": [
       "      County  Electric Vehicle (EV) Total  Total Vehicles  Percent EV\n",
       "93  Garfield                        197.0        197570.0    0.099711"
      ]
     },
     "execution_count": 66,
     "metadata": {},
     "output_type": "execute_result"
    }
   ],
   "source": [
    "county_percentage.tail(1) # county with lowest percentage of EV sales"
   ]
  },
  {
   "cell_type": "code",
   "execution_count": 67,
   "id": "034b1c74-0b42-480c-9fe6-4c2d76737d31",
   "metadata": {},
   "outputs": [],
   "source": [
    "df.insert(1,'Sales_Year',df['Date'].map(lambda x:x.year))"
   ]
  },
  {
   "cell_type": "code",
   "execution_count": 68,
   "id": "ddc581b3-12f1-4882-b1ab-3fae3a70d042",
   "metadata": {},
   "outputs": [
    {
     "data": {
      "text/html": [
       "<div>\n",
       "<style scoped>\n",
       "    .dataframe tbody tr th:only-of-type {\n",
       "        vertical-align: middle;\n",
       "    }\n",
       "\n",
       "    .dataframe tbody tr th {\n",
       "        vertical-align: top;\n",
       "    }\n",
       "\n",
       "    .dataframe thead th {\n",
       "        text-align: right;\n",
       "    }\n",
       "</style>\n",
       "<table border=\"1\" class=\"dataframe\">\n",
       "  <thead>\n",
       "    <tr style=\"text-align: right;\">\n",
       "      <th></th>\n",
       "      <th>Date</th>\n",
       "      <th>Sales_Year</th>\n",
       "      <th>County</th>\n",
       "      <th>State</th>\n",
       "      <th>Vehicle Primary Use</th>\n",
       "      <th>Battery Electric Vehicles (BEVs)</th>\n",
       "      <th>Plug-In Hybrid Electric Vehicles (PHEVs)</th>\n",
       "      <th>Electric Vehicle (EV) Total</th>\n",
       "      <th>Non-Electric Vehicle Total</th>\n",
       "      <th>Total Vehicles</th>\n",
       "      <th>Percent Electric Vehicles</th>\n",
       "    </tr>\n",
       "  </thead>\n",
       "  <tbody>\n",
       "    <tr>\n",
       "      <th>0</th>\n",
       "      <td>2022-09-30</td>\n",
       "      <td>2022</td>\n",
       "      <td>Riverside</td>\n",
       "      <td>CA</td>\n",
       "      <td>Passenger</td>\n",
       "      <td>7.0</td>\n",
       "      <td>0.0</td>\n",
       "      <td>7.0</td>\n",
       "      <td>460.0</td>\n",
       "      <td>467.0</td>\n",
       "      <td>1.50</td>\n",
       "    </tr>\n",
       "    <tr>\n",
       "      <th>1</th>\n",
       "      <td>2022-12-31</td>\n",
       "      <td>2022</td>\n",
       "      <td>Prince William</td>\n",
       "      <td>VA</td>\n",
       "      <td>Passenger</td>\n",
       "      <td>1.0</td>\n",
       "      <td>2.0</td>\n",
       "      <td>3.0</td>\n",
       "      <td>188.0</td>\n",
       "      <td>191.0</td>\n",
       "      <td>1.57</td>\n",
       "    </tr>\n",
       "    <tr>\n",
       "      <th>2</th>\n",
       "      <td>2020-01-31</td>\n",
       "      <td>2020</td>\n",
       "      <td>Dakota</td>\n",
       "      <td>MN</td>\n",
       "      <td>Passenger</td>\n",
       "      <td>0.0</td>\n",
       "      <td>1.0</td>\n",
       "      <td>1.0</td>\n",
       "      <td>32.0</td>\n",
       "      <td>33.0</td>\n",
       "      <td>3.03</td>\n",
       "    </tr>\n",
       "    <tr>\n",
       "      <th>3</th>\n",
       "      <td>2022-06-30</td>\n",
       "      <td>2022</td>\n",
       "      <td>Ferry</td>\n",
       "      <td>WA</td>\n",
       "      <td>Truck</td>\n",
       "      <td>0.0</td>\n",
       "      <td>0.0</td>\n",
       "      <td>0.0</td>\n",
       "      <td>3575.0</td>\n",
       "      <td>3575.0</td>\n",
       "      <td>0.00</td>\n",
       "    </tr>\n",
       "    <tr>\n",
       "      <th>4</th>\n",
       "      <td>2021-07-31</td>\n",
       "      <td>2021</td>\n",
       "      <td>Douglas</td>\n",
       "      <td>CO</td>\n",
       "      <td>Passenger</td>\n",
       "      <td>0.0</td>\n",
       "      <td>1.0</td>\n",
       "      <td>1.0</td>\n",
       "      <td>83.0</td>\n",
       "      <td>84.0</td>\n",
       "      <td>1.19</td>\n",
       "    </tr>\n",
       "  </tbody>\n",
       "</table>\n",
       "</div>"
      ],
      "text/plain": [
       "        Date  Sales_Year          County State Vehicle Primary Use  \\\n",
       "0 2022-09-30        2022       Riverside    CA           Passenger   \n",
       "1 2022-12-31        2022  Prince William    VA           Passenger   \n",
       "2 2020-01-31        2020          Dakota    MN           Passenger   \n",
       "3 2022-06-30        2022           Ferry    WA               Truck   \n",
       "4 2021-07-31        2021         Douglas    CO           Passenger   \n",
       "\n",
       "   Battery Electric Vehicles (BEVs)  Plug-In Hybrid Electric Vehicles (PHEVs)  \\\n",
       "0                               7.0                                       0.0   \n",
       "1                               1.0                                       2.0   \n",
       "2                               0.0                                       1.0   \n",
       "3                               0.0                                       0.0   \n",
       "4                               0.0                                       1.0   \n",
       "\n",
       "   Electric Vehicle (EV) Total  Non-Electric Vehicle Total  Total Vehicles  \\\n",
       "0                          7.0                       460.0           467.0   \n",
       "1                          3.0                       188.0           191.0   \n",
       "2                          1.0                        32.0            33.0   \n",
       "3                          0.0                      3575.0          3575.0   \n",
       "4                          1.0                        83.0            84.0   \n",
       "\n",
       "   Percent Electric Vehicles  \n",
       "0                       1.50  \n",
       "1                       1.57  \n",
       "2                       3.03  \n",
       "3                       0.00  \n",
       "4                       1.19  "
      ]
     },
     "execution_count": 68,
     "metadata": {},
     "output_type": "execute_result"
    }
   ],
   "source": [
    "df.head()"
   ]
  },
  {
   "cell_type": "code",
   "execution_count": 69,
   "id": "9e2770d8-9c03-4824-818a-b41243fedbec",
   "metadata": {},
   "outputs": [],
   "source": [
    "year_sales = df.groupby('Sales_Year',as_index = False)[['Electric Vehicle (EV) Total','Total Vehicles']].sum()"
   ]
  },
  {
   "cell_type": "code",
   "execution_count": 70,
   "id": "bb26d888-a223-485c-bdbe-22ff3d03c719",
   "metadata": {},
   "outputs": [],
   "source": [
    "year_sales['Percent EV Sales']= (year_sales['Electric Vehicle (EV) Total']/year_sales['Total Vehicles'])*100"
   ]
  },
  {
   "cell_type": "code",
   "execution_count": 71,
   "id": "bf005839-173e-430e-9c53-ef7a6a213ab2",
   "metadata": {},
   "outputs": [
    {
     "data": {
      "text/html": [
       "<div>\n",
       "<style scoped>\n",
       "    .dataframe tbody tr th:only-of-type {\n",
       "        vertical-align: middle;\n",
       "    }\n",
       "\n",
       "    .dataframe tbody tr th {\n",
       "        vertical-align: top;\n",
       "    }\n",
       "\n",
       "    .dataframe thead th {\n",
       "        text-align: right;\n",
       "    }\n",
       "</style>\n",
       "<table border=\"1\" class=\"dataframe\">\n",
       "  <thead>\n",
       "    <tr style=\"text-align: right;\">\n",
       "      <th></th>\n",
       "      <th>Sales_Year</th>\n",
       "      <th>Electric Vehicle (EV) Total</th>\n",
       "      <th>Total Vehicles</th>\n",
       "      <th>Percent EV Sales</th>\n",
       "    </tr>\n",
       "  </thead>\n",
       "  <tbody>\n",
       "    <tr>\n",
       "      <th>0</th>\n",
       "      <td>2017</td>\n",
       "      <td>304710.0</td>\n",
       "      <td>71648609.0</td>\n",
       "      <td>0.425284</td>\n",
       "    </tr>\n",
       "    <tr>\n",
       "      <th>1</th>\n",
       "      <td>2018</td>\n",
       "      <td>416573.0</td>\n",
       "      <td>72768433.0</td>\n",
       "      <td>0.572464</td>\n",
       "    </tr>\n",
       "    <tr>\n",
       "      <th>2</th>\n",
       "      <td>2019</td>\n",
       "      <td>577898.0</td>\n",
       "      <td>74122131.0</td>\n",
       "      <td>0.779656</td>\n",
       "    </tr>\n",
       "    <tr>\n",
       "      <th>3</th>\n",
       "      <td>2020</td>\n",
       "      <td>715726.0</td>\n",
       "      <td>74592015.0</td>\n",
       "      <td>0.959521</td>\n",
       "    </tr>\n",
       "    <tr>\n",
       "      <th>4</th>\n",
       "      <td>2021</td>\n",
       "      <td>914733.0</td>\n",
       "      <td>75173700.0</td>\n",
       "      <td>1.216826</td>\n",
       "    </tr>\n",
       "    <tr>\n",
       "      <th>5</th>\n",
       "      <td>2022</td>\n",
       "      <td>1214723.0</td>\n",
       "      <td>74534741.0</td>\n",
       "      <td>1.629741</td>\n",
       "    </tr>\n",
       "    <tr>\n",
       "      <th>6</th>\n",
       "      <td>2023</td>\n",
       "      <td>1705349.0</td>\n",
       "      <td>73829024.0</td>\n",
       "      <td>2.309863</td>\n",
       "    </tr>\n",
       "    <tr>\n",
       "      <th>7</th>\n",
       "      <td>2024</td>\n",
       "      <td>345135.0</td>\n",
       "      <td>12011299.0</td>\n",
       "      <td>2.873419</td>\n",
       "    </tr>\n",
       "  </tbody>\n",
       "</table>\n",
       "</div>"
      ],
      "text/plain": [
       "   Sales_Year  Electric Vehicle (EV) Total  Total Vehicles  Percent EV Sales\n",
       "0        2017                     304710.0      71648609.0          0.425284\n",
       "1        2018                     416573.0      72768433.0          0.572464\n",
       "2        2019                     577898.0      74122131.0          0.779656\n",
       "3        2020                     715726.0      74592015.0          0.959521\n",
       "4        2021                     914733.0      75173700.0          1.216826\n",
       "5        2022                    1214723.0      74534741.0          1.629741\n",
       "6        2023                    1705349.0      73829024.0          2.309863\n",
       "7        2024                     345135.0      12011299.0          2.873419"
      ]
     },
     "execution_count": 71,
     "metadata": {},
     "output_type": "execute_result"
    }
   ],
   "source": [
    "year_sales"
   ]
  },
  {
   "cell_type": "code",
   "execution_count": 78,
   "id": "aeadb269-822a-49fd-a215-e5dd6d33007f",
   "metadata": {},
   "outputs": [
    {
     "name": "stderr",
     "output_type": "stream",
     "text": [
      "/opt/anaconda3/lib/python3.11/site-packages/seaborn/_oldcore.py:1119: FutureWarning: use_inf_as_na option is deprecated and will be removed in a future version. Convert inf values to NaN before operating instead.\n",
      "  with pd.option_context('mode.use_inf_as_na', True):\n",
      "/opt/anaconda3/lib/python3.11/site-packages/seaborn/_oldcore.py:1119: FutureWarning: use_inf_as_na option is deprecated and will be removed in a future version. Convert inf values to NaN before operating instead.\n",
      "  with pd.option_context('mode.use_inf_as_na', True):\n"
     ]
    },
    {
     "data": {
      "text/plain": [
       "<Axes: xlabel='Sales_Year', ylabel='Percent EV Sales'>"
      ]
     },
     "execution_count": 78,
     "metadata": {},
     "output_type": "execute_result"
    },
    {
     "data": {
      "image/png": "[encoded data removed]",
      "text/plain": [
       "<Figure size 640x480 with 1 Axes>"
      ]
     },
     "metadata": {},
     "output_type": "display_data"
    }
   ],
   "source": [
    "sns.lineplot(x= 'Sales_Year', y= 'Percent EV Sales', data=year_sales)\n"
   ]
  },
  {
   "cell_type": "code",
   "execution_count": 79,
   "id": "25fbfe01-09d2-4a68-bb72-fc1438ebad1e",
   "metadata": {},
   "outputs": [],
   "source": [
    "plt.show()"
   ]
  },
  {
   "cell_type": "markdown",
   "id": "ed63022e-af8b-4e9a-8e86-1c811b19d0bf",
   "metadata": {},
   "source": [
    "**The above graph depicts trend of Percent EV sales from year 2017 to 2024,demonstrating a significant positive trend**"
   ]
  },
  {
   "cell_type": "markdown",
   "id": "62aa0e60-4429-445e-bc64-cd227fdb56a9",
   "metadata": {},
   "source": [
    "\n",
    "\n",
    "Conclusion:\n",
    "\n",
    "    1. PR has the highest Percentage EV Sales among the States\n",
    "    2. AZ has the lowest Percentage EV Sales among the States\n",
    "    3. WA has the highest Total EV Sales among the States\n",
    "    4. DE has the lowest Total EV Sales among the States\n",
    "    5. King has the highest Total EV Sales among the Countys\n",
    "    6. Brown has the lowest Total EV Sales among the Countys\n",
    "    7. Danville and Sevier has the highest Percentage EV Sales among the Countys\n",
    "    8. Garfield has the lowest Percentage EV Sales among the Countys\n",
    "    9. There is a positive trend for Percent EV Sales from year 2017 to 2024\n",
    "\n"
   ]
  },
  {
   "cell_type": "code",
   "execution_count": null,
   "id": "543e44c7-902c-4663-aa78-644cf322f4ad",
   "metadata": {},
   "outputs": [],
   "source": []
  }
 ],
 "metadata": {
  "kernelspec": {
   "display_name": "Python 3 (ipykernel)",
   "language": "python",
   "name": "python3"
  },
  "language_info": {
   "codemirror_mode": {
    "name": "ipython",
    "version": 3
   },
   "file_extension": ".py",
   "mimetype": "text/x-python",
   "name": "python",
   "nbconvert_exporter": "python",
   "pygments_lexer": "ipython3",
   "version": "3.11.7"
  }
 },
 "nbformat": 4,
 "nbformat_minor": 5
}
